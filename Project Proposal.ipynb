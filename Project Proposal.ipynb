{
 "cells": [
  {
   "cell_type": "markdown",
   "metadata": {},
   "source": [
    "# Comparable Neighborhoods\n",
    "\n",
    "## Introduction/ Business Problem\n",
    "\n",
    "There are many Canadians who move to the United States for the bigger job market and better opportunities. As of 2016, there were about 783k Canadians living in the U.S., and every year, about 50k Canadians immigrate to the U.S. While there are many similarities between the two countries, including language, education and geographical location, there are many challenges for many Canadians moving to the south of the border.One main challenge is in figuring out which area to live in.\n",
    "\n",
    "For the purpose of this project, we will focus on Toronto and New York since there are many Torontonians looking to move to New York. The problem this project will solve is: \"What are the comparable neighborhoods between Toronto and NYC?"
   ]
  },
  {
   "cell_type": "markdown",
   "metadata": {},
   "source": [
    "## Data Description"
   ]
  },
  {
   "cell_type": "markdown",
   "metadata": {},
   "source": [
    "### Foursquare API\n",
    "This project will extensively use Foursquare API though Rest API calls. Foursquare contains a extensive database of businesses globally including location, type of business, photos and user ratings."
   ]
  },
  {
   "cell_type": "code",
   "execution_count": null,
   "metadata": {},
   "outputs": [],
   "source": []
  }
 ],
 "metadata": {
  "kernelspec": {
   "display_name": "Python 3",
   "language": "python",
   "name": "python3"
  },
  "language_info": {
   "codemirror_mode": {
    "name": "ipython",
    "version": 3
   },
   "file_extension": ".py",
   "mimetype": "text/x-python",
   "name": "python",
   "nbconvert_exporter": "python",
   "pygments_lexer": "ipython3",
   "version": "3.7.6"
  }
 },
 "nbformat": 4,
 "nbformat_minor": 4
}
